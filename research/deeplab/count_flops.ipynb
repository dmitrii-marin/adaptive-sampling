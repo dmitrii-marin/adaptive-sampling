{
 "cells": [
  {
   "cell_type": "code",
   "execution_count": 1,
   "metadata": {},
   "outputs": [],
   "source": [
    "import tensorflow as tf\n",
    "import google.protobuf"
   ]
  },
  {
   "cell_type": "code",
   "execution_count": 2,
   "metadata": {},
   "outputs": [],
   "source": [
    "def count_flops(chkpoint_dir_path):\n",
    "    chkpoint_path = tf.train.latest_checkpoint(chkpoint_dir_path)\n",
    "    variables = { u:v for u,v in tf.train.list_variables(chkpoint_path) }\n",
    "\n",
    "    def parse_output_shape(f):\n",
    "        return [el.size for el in f.attr['_output_shapes'].list.shape[0].dim]\n",
    "\n",
    "    def get_var_name(name):\n",
    "        name = str(name)\n",
    "        assert name.endswith('/read'), \"invalid name: %s\" % name\n",
    "        return name[:-5]\n",
    "\n",
    "    graph = tf.GraphDef()\n",
    "    graph = google.protobuf.text_format.Parse(open(chkpoint_dir_path + \"/graph.pbtxt\", \"r\").read(), graph)\n",
    "    fields = graph.ListFields()\n",
    "\n",
    "    flops = []\n",
    "    for f in fields[0][1]:\n",
    "        if f.op == \"DepthwiseConv2dNative\":\n",
    "            kernel = variables[get_var_name(f.input[1])]\n",
    "            output = parse_output_shape(f)\n",
    "            flops += [kernel[0] * kernel[1] * output[1] * output[2] * output[3]]\n",
    "        elif f.op == \"Conv2D\":\n",
    "            kernel = variables[get_var_name(f.input[1])]\n",
    "            output = parse_output_shape(f)\n",
    "            flops += [kernel[0] * kernel[1] * kernel[2] * output[1] * output[2] * output[3]]\n",
    "    print (sum(flops), \"Flops =\", sum(flops)/10**6, \"MFlops\")\n",
    "    return sum(flops)"
   ]
  },
  {
   "cell_type": "markdown",
   "metadata": {},
   "source": [
    "# Flops in auxiliary networks"
   ]
  },
  {
   "cell_type": "code",
   "execution_count": 3,
   "metadata": {},
   "outputs": [
    {
     "name": "stdout",
     "output_type": "stream",
     "text": [
      "17600064 Flops = 17.600064 MFlops\n"
     ]
    },
    {
     "data": {
      "text/plain": [
       "17600064"
      ]
     },
     "execution_count": 3,
     "metadata": {},
     "output_type": "execute_result"
    }
   ],
   "source": [
    "count_flops('datasets/cityscapes/exp/nus64_128_mobilenetv2_lr0.007_mt0.25/train')"
   ]
  },
  {
   "cell_type": "code",
   "execution_count": 4,
   "metadata": {},
   "outputs": [
    {
     "name": "stdout",
     "output_type": "stream",
     "text": [
      "124646464 Flops = 124.646464 MFlops\n"
     ]
    },
    {
     "data": {
      "text/plain": [
       "124646464"
      ]
     },
     "execution_count": 4,
     "metadata": {},
     "output_type": "execute_result"
    }
   ],
   "source": [
    "count_flops('datasets/cityscapes/exp/nus32_128_mobilenetv2_lr0.007_mt1/train')"
   ]
  },
  {
   "cell_type": "markdown",
   "metadata": {},
   "source": [
    "# Flops in the base network\n",
    "## 128x128"
   ]
  },
  {
   "cell_type": "code",
   "execution_count": 5,
   "metadata": {},
   "outputs": [
    {
     "name": "stdout",
     "output_type": "stream",
     "text": [
      "161547264 Flops = 161.547264 MFlops\n"
     ]
    },
    {
     "data": {
      "text/plain": [
       "161547264"
      ]
     },
     "execution_count": 5,
     "metadata": {},
     "output_type": "execute_result"
    }
   ],
   "source": [
    "count_flops('datasets/cityscapes/exp/train_on_train_set_mobilenetv2_w_nus/train')"
   ]
  },
  {
   "cell_type": "markdown",
   "metadata": {},
   "source": [
    "## 160x160"
   ]
  },
  {
   "cell_type": "code",
   "execution_count": 6,
   "metadata": {},
   "outputs": [
    {
     "name": "stdout",
     "output_type": "stream",
     "text": [
      "252371520 Flops = 252.37152 MFlops\n"
     ]
    },
    {
     "data": {
      "text/plain": [
       "252371520"
      ]
     },
     "execution_count": 6,
     "metadata": {},
     "output_type": "execute_result"
    }
   ],
   "source": [
    "count_flops('datasets/cityscapes/exp/train_on_train_set_mobilenetv2_w_nus_at_160/train')"
   ]
  },
  {
   "cell_type": "markdown",
   "metadata": {},
   "source": [
    "## 192x192"
   ]
  },
  {
   "cell_type": "code",
   "execution_count": 7,
   "metadata": {},
   "outputs": [
    {
     "name": "stdout",
     "output_type": "stream",
     "text": [
      "363378944 Flops = 363.378944 MFlops\n"
     ]
    },
    {
     "data": {
      "text/plain": [
       "363378944"
      ]
     },
     "execution_count": 7,
     "metadata": {},
     "output_type": "execute_result"
    }
   ],
   "source": [
    "count_flops('datasets/cityscapes/exp/train_on_train_set_mobilenetv2_w_nus_at_192/train')"
   ]
  },
  {
   "cell_type": "markdown",
   "metadata": {},
   "source": [
    "## 224x224"
   ]
  },
  {
   "cell_type": "code",
   "execution_count": 8,
   "metadata": {},
   "outputs": [
    {
     "name": "stdout",
     "output_type": "stream",
     "text": [
      "494569536 Flops = 494.569536 MFlops\n"
     ]
    },
    {
     "data": {
      "text/plain": [
       "494569536"
      ]
     },
     "execution_count": 8,
     "metadata": {},
     "output_type": "execute_result"
    }
   ],
   "source": [
    "count_flops('datasets/cityscapes/exp/train_on_train_set_mobilenetv2_w_nus_at_224/train')"
   ]
  }
 ],
 "metadata": {
  "kernelspec": {
   "display_name": "Python 3",
   "language": "python",
   "name": "python3"
  },
  "language_info": {
   "codemirror_mode": {
    "name": "ipython",
    "version": 3
   },
   "file_extension": ".py",
   "mimetype": "text/x-python",
   "name": "python",
   "nbconvert_exporter": "python",
   "pygments_lexer": "ipython3",
   "version": "3.6.8"
  }
 },
 "nbformat": 4,
 "nbformat_minor": 2
}
